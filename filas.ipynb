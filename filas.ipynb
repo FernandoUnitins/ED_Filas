{
 "cells": [
  {
   "cell_type": "code",
   "execution_count": 25,
   "metadata": {},
   "outputs": [],
   "source": [
    "class Node:\n",
    "    def __init__(self, value):\n",
    "        self.value = value\n",
    "        self.next = None"
   ]
  },
  {
   "cell_type": "code",
   "execution_count": 26,
   "metadata": {},
   "outputs": [],
   "source": [
    "class Queue:\n",
    "    def __init__(self):\n",
    "        self.front = None\n",
    "        self.rear = None\n",
    "    \n",
    "    # Inclusão de elementos na fila\n",
    "    def enqueue(self, value):\n",
    "        new_node = Node(value)\n",
    "\n",
    "        if self.front == None:\n",
    "            self.front = self.rear = new_node\n",
    "            return\n",
    "        self.rear.next = new_node\n",
    "        self.rear = new_node\n",
    "\n",
    "    # Remoção de elemnto da fila\n",
    "    def dequeue(self):\n",
    "        if self.front == None:\n",
    "            raise Exception(\"Queue is empty\")\n",
    "        temp = self.front\n",
    "        self.front = self.front.next\n",
    "        if self.front == None:\n",
    "            self.rear = None\n",
    "        return temp.value\n",
    "\n",
    "    # Acessa o primeiro elemento da fila\n",
    "    def peek(self):\n",
    "        if self.front == None:\n",
    "            raise Exception(\"Queue is empty\")\n",
    "        return self.front.value\n",
    "    \n",
    "    # Verifica se a fila está vazia\n",
    "    def is_empty(self):\n",
    "        return self.front == None\n",
    "\n",
    "    # Exibe a fila\n",
    "    def display_queue(self):\n",
    "        current = self.front\n",
    "        while current != None:\n",
    "            print(current.value, end=\" \")\n",
    "            current = current.next"
   ]
  },
  {
   "cell_type": "code",
   "execution_count": 27,
   "metadata": {},
   "outputs": [
    {
     "name": "stdout",
     "output_type": "stream",
     "text": [
      "True\n",
      "1\n",
      "2 3 4 5 6 "
     ]
    }
   ],
   "source": [
    "#2 - Enfileirar Elementos: Modifique o código de teste adicionando mais três chamadas ao método enqueue, inserindo os elementos 4, 5 e 6. Em seguida, utilize o método display_queue para exibir o estado atual da fila.\n",
    "\n",
    "# Criando uma nova fila\n",
    "fila = Queue()\n",
    "\n",
    "# Verifica se a fila está vazia\n",
    "print(fila.is_empty())\n",
    "\n",
    "# Adicionando elementos à fila\n",
    "fila.enqueue(1)\n",
    "\n",
    "# Exibindo o primeiro elemento da fila\n",
    "print(fila.peek())\n",
    "\n",
    "# Removendo o primeiro elemento da fila\n",
    "fila.dequeue()\n",
    "\n",
    "# Adicionando mais elementos à fila\n",
    "fila.enqueue(2)\n",
    "fila.enqueue(3)\n",
    "fila.enqueue(4)\n",
    "fila.enqueue(5)\n",
    "fila.enqueue(6)\n",
    "\n",
    "# Exibindo o estado atual da fila\n",
    "fila.display_queue()\n",
    "\n"
   ]
  },
  {
   "cell_type": "code",
   "execution_count": 28,
   "metadata": {},
   "outputs": [
    {
     "name": "stdout",
     "output_type": "stream",
     "text": [
      "Após desenfileirar dois elementos:\n",
      "4 5 6 "
     ]
    }
   ],
   "source": [
    "#3 - Desenfileirar Elementos: Após enfileirar os novos elementos, faça duas chamadas ao método dequeue para remover elementos da fila. Use novamente o método display_queue para exibir o estado da fila após estas operações.\n",
    "\n",
    "# Desenfileirando dois elementos\n",
    "print(\"Após desenfileirar dois elementos:\")\n",
    "fila.dequeue()\n",
    "fila.dequeue()\n",
    "\n",
    "# Exibindo o estado atual da fila\n",
    "fila.display_queue()"
   ]
  },
  {
   "cell_type": "code",
   "execution_count": 29,
   "metadata": {},
   "outputs": [
    {
     "name": "stdout",
     "output_type": "stream",
     "text": [
      "Primeiro elemento da fila após as remoções:\n",
      "4\n"
     ]
    }
   ],
   "source": [
    "#4 - Visualizar o Primeiro Elemento: Use o método peek para visualizar o primeiro elemento da fila após as remoções. Imprima o valor retornado pelo método peek.\n",
    "\n",
    "# Visualizando o primeiro elemento da fila após as remoções\n",
    "print(\"Primeiro elemento da fila após as remoções:\")\n",
    "print(fila.peek())"
   ]
  },
  {
   "cell_type": "code",
   "execution_count": 32,
   "metadata": {},
   "outputs": [
    {
     "name": "stdout",
     "output_type": "stream",
     "text": [
      "A fila não está vazia!\n"
     ]
    }
   ],
   "source": [
    "#5 - Verificar Fila Vazia: Por fim, escreva um trecho de código que verifica se a fila está vazia utilizando o método is_empty. Imprima \"Fila está vazia\" ou \"Fila não está vazia\" baseado no retorno deste método.\n",
    "\n",
    "# Verificando se a fila está vazia\n",
    "if fila.is_empty():\n",
    "    print(\"A fila está vazia!\")\n",
    "else:\n",
    "    print(\"A fila não está vazia!\")"
   ]
  }
 ],
 "metadata": {
  "kernelspec": {
   "display_name": "Python 3",
   "language": "python",
   "name": "python3"
  },
  "language_info": {
   "codemirror_mode": {
    "name": "ipython",
    "version": 3
   },
   "file_extension": ".py",
   "mimetype": "text/x-python",
   "name": "python",
   "nbconvert_exporter": "python",
   "pygments_lexer": "ipython3",
   "version": "3.11.4"
  }
 },
 "nbformat": 4,
 "nbformat_minor": 2
}
